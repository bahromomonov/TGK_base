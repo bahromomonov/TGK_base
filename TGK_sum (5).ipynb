{
 "cells": [
  {
   "cell_type": "code",
   "execution_count": 475,
   "id": "3a032061",
   "metadata": {},
   "outputs": [],
   "source": [
    "import pandas as pd\n",
    "import numpy as np\n",
    "import re\n",
    "import psycopg2"
   ]
  },
  {
   "cell_type": "code",
   "execution_count": 477,
   "id": "7e227220",
   "metadata": {},
   "outputs": [],
   "source": [
    "import psycopg2\n",
    "\n",
    "# Establish a connection to the PostgreSQL database\n",
    "conn = psycopg2.connect(\n",
    "    host=\"localhost\",\n",
    "    database=\"Gidrometuz\",\n",
    "    user=\"postgres\",\n",
    "    password=\"admin\"\n",
    ")\n",
    "\n",
    "# Create a cursor object\n",
    "cursor = conn.cursor()\n",
    "\n",
    "# Retrieve the dataset from the database\n",
    "query = \"SELECT * FROM basa_2009_2022;\"\n",
    "cursor.execute(query)\n",
    "dataset = cursor.fetchall()\n",
    "\n",
    "# Close the cursor and the database connection\n",
    "cursor.close()\n",
    "conn.close()\n",
    "\n",
    "# Access the retrieved dataset\n",
    "df_2009 = pd.DataFrame(dataset)\n",
    "\n",
    "# Access and print the DataFrame\n",
    "\n",
    "df_2009.columns=['wmo_id','year','month','day','hour','T_air','T_soil', 'T_dew_point', 'Partial_pressure', 'Relative_humidity', \n",
    "                        'saturation_deficit','Atmosphere_pressure_station','Atmosphere_pressure_sea_level','Trend_view',\n",
    "                        'Trend_volume','Visibility','Cloudiness_all',  'Cloudiness_low','Ci','Ac','Cu','St','Fr','Height',\n",
    "                        'Below','Weather_W','Weather_ww','Wind_right','Wind_speed','Precipitation']\n"
   ]
  },
  {
   "cell_type": "code",
   "execution_count": 478,
   "id": "cff21518",
   "metadata": {},
   "outputs": [],
   "source": [
    "id_basa=pd.read_excel(\"d:/Gidromet/Все МС 2009-2022.06/id_meteos.xlsx\")\n",
    "id_basa_0=id_basa[['wmo_id','station_name']]\n"
   ]
  },
  {
   "cell_type": "code",
   "execution_count": 479,
   "id": "0b654166",
   "metadata": {},
   "outputs": [],
   "source": [
    "# yangi baza faqat id va hududlar berilgan\n",
    "id_meteos=pd.read_excel(\"d:/Gidromet/id_meteos.xlsx\")\n",
    "id_meteos['wmo_id']=id_meteos['wmo_id'].astype(int)\n",
    "id_meteos_0=id_meteos[['wmo_id','station_name']]\n"
   ]
  },
  {
   "cell_type": "code",
   "execution_count": 413,
   "id": "15881b91",
   "metadata": {},
   "outputs": [
    {
     "name": "stderr",
     "output_type": "stream",
     "text": [
      "C:\\Users\\User\\AppData\\Local\\Temp\\ipykernel_8128\\2469285653.py:2: SettingWithCopyWarning: \n",
      "A value is trying to be set on a copy of a slice from a DataFrame.\n",
      "Try using .loc[row_indexer,col_indexer] = value instead\n",
      "\n",
      "See the caveats in the documentation: https://pandas.pydata.org/pandas-docs/stable/user_guide/indexing.html#returning-a-view-versus-a-copy\n",
      "  df_2009a['wmo_id']=df_2009a['wmo_id'].astype(int)\n"
     ]
    }
   ],
   "source": [
    "# 2009 yil ma'lumotlarini ajratib olish\n",
    "df_2009a=df_2009[df_2009['year']=='2009']\n",
    "df_2009a['wmo_id']=df_2009a['wmo_id'].astype(int)"
   ]
  },
  {
   "cell_type": "code",
   "execution_count": 415,
   "id": "0c915ba1",
   "metadata": {},
   "outputs": [],
   "source": [
    "df_2009_1 = pd.merge(id_basa_0, df_2009a, on=['wmo_id'], how='inner')\n"
   ]
  },
  {
   "cell_type": "code",
   "execution_count": 480,
   "id": "2254e6c2",
   "metadata": {},
   "outputs": [],
   "source": [
    "# yil,oy,kun soat ustunlarini yaxlit date formatiga o'tkazadi\n",
    "df_2009_2=pd.merge(id_meteos_0, df_2009_1, on=['station_name'], how='inner')\n",
    "df_2009_2['hour'] = df_2009_2['hour'].astype(str)\n",
    "df_2009_2['hour'] = df_2009_2['hour'].apply(lambda x: x.split('.')[0] + ':00')\n",
    "df_2009_2['hour'] = pd.to_datetime(df_2009_2['hour'], format='%H:%M').dt.hour\n",
    "df_2009_2['date'] = pd.to_datetime(df_2009_2[['year', 'month', 'day','hour']],errors='coerce')\n"
   ]
  },
  {
   "cell_type": "code",
   "execution_count": null,
   "id": "550ac76d",
   "metadata": {},
   "outputs": [],
   "source": []
  },
  {
   "cell_type": "code",
   "execution_count": 481,
   "id": "071fdac8",
   "metadata": {},
   "outputs": [],
   "source": [
    "df_concat=df_2009_2[['wmo_id_x','T_air','T_soil', 'T_dew_point', 'Partial_pressure', 'Relative_humidity', \n",
    "                        'saturation_deficit','Atmosphere_pressure_station','Atmosphere_pressure_sea_level','Trend_view',\n",
    "                        'Trend_volume','Visibility','Cloudiness_all',  'Cloudiness_low','Ci','Ac','Cu','St','Fr','Height',\n",
    "                        'Below','Weather_W','Weather_ww','Wind_right','Wind_speed','Precipitation','date']]\n",
    "df_concat.columns=['wmo_id','T_air','T_soil', 'T_dew_point', 'Partial_pressure', 'Relative_humidity', \n",
    "                        'saturation_deficit','Atmosphere_pressure_station','Atmosphere_pressure_sea_level','Trend_view',\n",
    "                        'Trend_volume','Visibility','Cloudiness_all',  'Cloudiness_low','Ci','Ac','Cu','St','Fr','Height',\n",
    "                        'Below','Weather_W','Weather_ww','Wind_right','Wind_speed','Precipitation','date']\n",
    "\n"
   ]
  },
  {
   "cell_type": "code",
   "execution_count": 282,
   "id": "510b3168",
   "metadata": {},
   "outputs": [],
   "source": [
    "# df_concat['hour'] = df_concat['hour'].astype(str)\n",
    "# df_concat['hour'] = df_concat['hour'].apply(lambda x: x.split('.')[0] + ':00')\n",
    "# df_concat['hour'] = pd.to_datetime(df_concat['hour'], format='%H:%M').dt.hour\n",
    "# df_concat['date'] = pd.to_datetime(df_concat[['year', 'month', 'day','hour']],errors='coerce')\n",
    "# # df_concatj = df_concat['date'].dt.hour == 23\n",
    "# df_concat.loc[df_concatj, 'date'] += pd.Timedelta(days=1)\n",
    "# df_concat"
   ]
  },
  {
   "cell_type": "markdown",
   "id": "02ad3afc",
   "metadata": {},
   "source": [
    "# POSTGRESQL ma'lumotlat omori orqali datasetlarni chaqirib olish"
   ]
  },
  {
   "cell_type": "code",
   "execution_count": 235,
   "id": "7350e3fb",
   "metadata": {},
   "outputs": [],
   "source": [
    "import psycopg2\n",
    "\n",
    "# Establish a connection to the PostgreSQL database\n",
    "conn = psycopg2.connect(\n",
    "    host=\"localhost\",\n",
    "    database=\"Gidrometuz\",\n",
    "    user=\"postgres\",\n",
    "    password=\"admin\"\n",
    ")\n",
    "\n",
    "# Create a cursor object\n",
    "cursor = conn.cursor()\n",
    "\n",
    "# Retrieve the dataset from the database\n",
    "query = \"SELECT * FROM read_file;\"\n",
    "cursor.execute(query)\n",
    "idset = cursor.fetchall()\n",
    "\n",
    "# Close the cursor and the database connection\n",
    "cursor.close()\n",
    "conn.close()\n",
    "\n",
    "# Access the retrieved datas\n",
    "id_met=pd.DataFrame(idset)\n",
    "id_met.columns=['wmo_id','Stansiya','Hudud','lat','lon','height','interval']\n"
   ]
  },
  {
   "cell_type": "code",
   "execution_count": 482,
   "id": "87007ff4",
   "metadata": {},
   "outputs": [],
   "source": [
    "import psycopg2\n",
    "\n",
    "# Establish a connection to the PostgreSQL database\n",
    "conn = psycopg2.connect(\n",
    "    host=\"localhost\",\n",
    "    database=\"Gidrometuz\",\n",
    "    user=\"postgres\",\n",
    "    password=\"admin\"\n",
    ")\n",
    "\n",
    "# Create a cursor object\n",
    "cursor = conn.cursor()\n",
    "\n",
    "# Retrieve the dataset from the database\n",
    "query = \"SELECT * FROM uzgidromet_2000_2022;\"\n",
    "cursor.execute(query)\n",
    "dataset = cursor.fetchall()\n",
    "\n",
    "# Close the cursor and the database connection\n",
    "cursor.close()\n",
    "conn.close()\n",
    "\n",
    "# Access the retrieved dataset\n",
    "df = pd.DataFrame(dataset)\n",
    "\n",
    "# Access and print the DataFrame\n",
    "\n",
    "df.columns=['id','year','month','day','hour','T_air','T_soil', 'T_dew_point', 'Partial_pressure', 'Relative_humidity', \n",
    "                        'saturation_deficit','Atmosphere_pressure_station','Atmosphere_pressure_sea_level','Trend_view',\n",
    "                        'Trend_volume','Visibility','Cloudiness_all',  'Cloudiness_low','Ci','Ac','Cu','St','Fr','Height',\n",
    "                        'Below','Weather_W','Weather_ww','Wind_right','Wind_speed','Precipitation','None','None1']\n",
    "\n",
    "\n"
   ]
  },
  {
   "cell_type": "code",
   "execution_count": null,
   "id": "0d953427",
   "metadata": {},
   "outputs": [],
   "source": []
  },
  {
   "cell_type": "code",
   "execution_count": 181,
   "id": "08353f38",
   "metadata": {},
   "outputs": [],
   "source": [
    "# dfj = df['date'].dt.hour == 23\n",
    "# dfj.loc[dfj, 'date'] -= pd.Timedelta(days=1)\n",
    "# print(dfj.head(5))"
   ]
  },
  {
   "cell_type": "code",
   "execution_count": 483,
   "id": "080193de",
   "metadata": {},
   "outputs": [],
   "source": [
    "df['hour'] = pd.to_datetime(df['hour'], format='%H:%M').dt.hour\n",
    "df['date'] = pd.to_datetime(df[['year', 'month', 'day','hour']],errors='coerce')\n",
    "dfj = df['date'].dt.hour == 23\n",
    "df.loc[dfj, 'date'] += pd.Timedelta(days=1)\n"
   ]
  },
  {
   "cell_type": "code",
   "execution_count": 484,
   "id": "ee4f0155",
   "metadata": {},
   "outputs": [],
   "source": [
    "df_concat_1=df[['id','T_air','T_soil', 'T_dew_point', 'Partial_pressure', 'Relative_humidity', \n",
    "                        'saturation_deficit','Atmosphere_pressure_station','Atmosphere_pressure_sea_level','Trend_view',\n",
    "                        'Trend_volume','Visibility','Cloudiness_all',  'Cloudiness_low','Ci','Ac','Cu','St','Fr','Height',\n",
    "                        'Below','Weather_W','Weather_ww','Wind_right','Wind_speed','Precipitation','date']]\n",
    "df_concat_1.columns=['wmo_id','T_air','T_soil', 'T_dew_point', 'Partial_pressure', 'Relative_humidity', \n",
    "                        'saturation_deficit','Atmosphere_pressure_station','Atmosphere_pressure_sea_level','Trend_view',\n",
    "                        'Trend_volume','Visibility','Cloudiness_all',  'Cloudiness_low','Ci','Ac','Cu','St','Fr','Height',\n",
    "                        'Below','Weather_W','Weather_ww','Wind_right','Wind_speed','Precipitation','date']\n"
   ]
  },
  {
   "cell_type": "code",
   "execution_count": 485,
   "id": "1513c079",
   "metadata": {},
   "outputs": [],
   "source": [
    "result_vertical = pd.concat([df_concat_1, df_concat], axis=0)\n",
    "result_vertical['wmo_id'] = result_vertical['wmo_id'].astype(int)\n"
   ]
  },
  {
   "cell_type": "code",
   "execution_count": 486,
   "id": "1b553f1f",
   "metadata": {},
   "outputs": [
    {
     "data": {
      "text/plain": [
       "'                                                                                                                                                                                                                                                                                                                                                                                                                                                                                                                                                                                                                                                                                                                               0.0                                                     1.2                                                                                                                                                                                                                                                                                                                                                                                                                                                                                                                                                                                                                                                                                                                                                     0.0                                                     0.0                                                                                               0.0                                    NaNNaNNaNNaNNaNNaNNaNNaNNaNNaNNaNNaNNaNNaNNaNNaNNaNNaNNaNNaNNaNNaNNaNNaNNaNNaNNaNNaNNaNNaNNaNNaNNaNNaNNaNNaNNaNNaNNaNNaNNaNNaNNaNNaNNaNNaNNaNNaNNaNNaNNaNNaNNaNNaNNaNNaNNaNNaNNaNNaNNaNNaNNaNNaNNaNNaNNaNNaNNaNNaNNaNNaNNaNNaNNaNNaNNaNNaNNaNNaNNaNNaNNaNNaNNaNNaNNaNNaNNaNNaNNaNNaNNaNNaNNaNNaNNaNNaNNaNNaNNaNNaNNaNNaNNaNNaNNaNNaNNaNNaNNaNNaNNaNNaNNaNNaNNaNNaNNaNNaNNaNNaNNaNNaNNaNNaNNaNNaNNaNNaNNaNNaNNaNNaNNaNNaNNaNNaNNaNNaNNaNNaNNaNNaNNaNNaNNaNNaNNaNNaNNaNNaNNaNNaNNaNNaNNaNNaNNaNNaNNaNNaNNaNNaNNaNNaNNaNNaNNaNNaNNaNNaNNaNNaNNaNNaNNaNNaNNaNNaNNaNNaNNaNNaNNaNNaNNaNNaNNaNNaNNaNNaNNaNNaNNaNNaNNaNNaNNaNNaNNaNNaNNaNNaNNaNNaNNaNNaNNaNNaNNaNNaNNaNNaNNaNNaNNaNNaNNaNNaNNaNNaNNaNNaNNaNNaNNaNNaNNaNNaNNaNNaNNaNNaNNaNNaNNaNNaNNaNNaNNaNNaNNaNNaNNaNNaNNaNNaNNaNNaNNaNNaNNaNNaNNaNNaNNaNNaNNaNNaNNaNNaNNaNNaNNaNNaNNaNNaNNaNNaNNaNNaNNaNNaNNaNNaNNaNNaNNaNNaNNaNNaNNaNNaNNaNNaNNaNNaNNaNNaNNaNNaNNaNNaNNaNNaNNaNNaNNaNNaNNaNNaNNaNNaNNaNNaNNaNNaNNaNNaNNaNNaNNaNNaNNaNNaNNaNNaNNaNNaNNaNNaNNaNNaNNaNNaNNaNNaNNaNNaNNaNNaNNaNNaNNaNNaNNaNNaNNaNNaNNaNNaNNaN0.0NaNNaNNaNNaNNaNNaNNaNNaNNaNNaNNaNNaNNaNNaNNaNNaNNaNNaNNaNNaNNaNNaNNaNNaNNaNNaNNaNNaNNaNNaNNaNNaNNaNNaNNaNNaNNaNNaNNaNNaNNaNNaNNaNNaNNaNNaNNaNNaNNaNNaNNaNNaNNaNNaNNaNNaNNaNNaNNaNNaNNaNNaNNaNNaNNaNNaNNaNNaNNaNNaNNaNNaNNaNNaNNaNNaNNaNNaNNaNNaNNaNNaNNaNNaNNaNNaNNaNNaNNaNNaNNaNNaNNaNNaNNaNNaNNaNNaNNaNNaNNaNNaNNaNNaNNaNNaNNaNNaNNaNNaNNaNNaNNaNNaNNaNNaNNaNNaNNaN1.0NaNNaNNaNNaN0.0NaNNaNNaNNaNNaNNaNNaNNaNNaNNaNNaNNaNNaNNaNNaNNaNNaNNaNNaNNaNNaNNaNNaNNaNNaNNaNNaNNaNNaNNaNNaNNaNNaNNaNNaNNaNNaNNaNNaNNaNNaNNaNNaNNaNNaNNaNNaNNaNNaNNaNNaNNaNNaNNaNNaNNaNNaNNaNNaNNaNNaNNaNNaNNaNNaNNaNNaNNaNNaNNaNNaNNaNNaNNaNNaNNaNNaNNaNNaNNaNNaNNaNNaNNaNNaNNaNNaNNaNNaNNaNNaNNaNNaNNaNNaNNaNNaNNaNNaNNaNNaNNaNNaNNaNNaNNaNNaN0.0NaN0.0NaNNaNNaNNaN0.0NaNNaNNaNNaNNaNNaNNaNNaNNaNNaNNaNNaNNaNNaNNaNNaNNaNNaNNaNNaNNaNNaNNaNNaNNaNNaNNaNNaNNaNNaNNaNNaNNaNNaNNaNNaNNaNNaNNaNNaNNaNNaNNaNNaNNaNNaNNaNNaNNaNNaNNaNNaNNaNNaNNaNNaNNaNNaNNaNNaNNaNNaNNaNNaNNaNNaNNaNNaNNaNNaNNaNNaNNaNNaNNaNNaNNaNNaNNaNNaNNaNNaNNaNNaNNaNNaNNaNNaNNaNNaNNaNNaNNaNNaNNaNNaNNaNNaNNaNNaNNaNNaNNaNNaNNaNNaNNaNNaNNaNNaNNaNNaNNaNNaNNaNNaNNaNNaNNaNNaNNaNNaNNaNNaN0.0NaNNaNNaNNaNNaNNaNNaNNaNNaNNaNNaN                                                                                                                                                                                                                                                                                                                                                                                                                                                                                                                                                                                                                                                                                                                                                                                                                                                                                                                                                                                                                                                                                                                                                                                                                                                                                                                                                                                                                                                                                                                                                                           0.0                                                     0.0                                                            0.0                                           NaNNaNNaNNaNNaNNaNNaNNaNNaNNaNNaNNaNNaNNaNNaNNaNNaNNaNNaNNaNNaNNaNNaNNaNNaNNaNNaNNaNNaNNaNNaNNaNNaNNaNNaNNaNNaNNaNNaNNaNNaNNaNNaNNaNNaNNaNNaNNaNNaNNaNNaNNaNNaNNaNNaNNaNNaNNaNNaNNaNNaNNaNNaNNaNNaNNaNNaNNaNNaNNaNNaNNaNNaNNaNNaNNaNNaNNaNNaNNaNNaNNaNNaNNaNNaNNaNNaNNaNNaNNaNNaNNaNNaNNaNNaNNaNNaNNaNNaNNaNNaNNaNNaNNaNNaNNaNNaNNaNNaNNaNNaNNaNNaNNaNNaNNaNNaNNaNNaNNaNNaNNaNNaNNaNNaNNaNNaNNaNNaNNaNNaNNaNNaNNaNNaNNaNNaNNaNNaNNaNNaNNaNNaNNaNNaNNaNNaNNaNNaNNaNNaNNaNNaNNaNNaNNaNNaNNaNNaNNaNNaNNaNNaNNaNNaNNaNNaNNaNNaNNaNNaNNaNNaNNaNNaNNaNNaNNaNNaNNaNNaNNaNNaNNaNNaNNaNNaNNaNNaNNaNNaNNaNNaNNaNNaNNaNNaNNaNNaNNaNNaNNaNNaNNaNNaNNaNNaNNaNNaNNaNNaNNaNNaNNaNNaNNaNNaNNaNNaNNaNNaNNaN   0.0NaNNaN   1.0NaNNaNNaNNaNNaNNaNNaNNaNNaNNaNNaN   0.0NaNNaNNaNNaNNaNNaNNaNNaNNaNNaNNaNNaNNaNNaNNaNNaNNaNNaNNaNNaNNaNNaNNaNNaNNaNNaNNaNNaNNaNNaNNaNNaNNaNNaNNaNNaNNaNNaNNaNNaNNaNNaNNaNNaNNaNNaNNaNNaNNaNNaNNaNNaNNaNNaNNaNNaNNaNNaNNaNNaNNaNNaNNaNNaNNaNNaNNaNNaNNaNNaNNaNNaNNaNNaNNaNNaNNaNNaNNaNNaNNaNNaNNaNNaNNaNNaNNaNNaNNaNNaNNaNNaNNaNNaNNaNNaNNaNNaNNaNNaNNaNNaNNaNNaNNaNNaNNaNNaNNaNNaNNaNNaNNaNNaNNaNNaNNaNNaNNaNNaNNaNNaNNaNNaNNaNNaNNaNNaNNaNNaNNaNNaNNaNNaNNaNNaNNaNNaNNaNNaNNaNNaNNaNNaNNaNNaNNaNNaNNaNNaNNaNNaNNaNNaNNaNNaNNaNNaNNaNNaNNaNNaNNaNNaNNaNNaNNaNNaNNaNNaNNaNNaNNaNNaNNaNNaNNaNNaNNaNNaNNaNNaNNaNNaNNaNNaNNaNNaNNaNNaNNaNNaNNaNNaNNaNNaNNaNNaNNaNNaNNaNNaNNaNNaNNaNNaNNaNNaNNaNNaNNaNNaNNaNNaNNaNNaNNaNNaNNaNNaNNaNNaNNaNNaNNaNNaNNaNNaNNaNNaNNaNNaNNaNNaNNaNNaNNaNNaNNaNNaNNaNNaNNaNNaNNaNNaNNaNNaNNaNNaNNaNNaNNaNNaNNaNNaNNaNNaNNaNNaNNaNNaNNaNNaNNaNNaNNaNNaNNaNNaNNaNNaNNaNNaNNaNNaNNaNNaNNaNNaNNaNNaNNaNNaNNaNNaNNaNNaNNaNNaNNaNNaNNaNNaNNaNNaNNaNNaNNaNNaNNaNNaNNaNNaNNaNNaNNaNNaNNaNNaNNaNNaNNaNNaNNaNNaNNaNNaNNaNNaNNaNNaNNaNNaNNaNNaNNaNNaNNaNNaNNaNNaNNaNNaNNaNNaNNaNNaNNaNNaNNaNNaNNaNNaN0.0NaNNaNNaNNaNNaNNaNNaNNaNNaNNaNNaNNaNNaNNaNNaN0.00.0NaNNaNNaNNaNNaNNaNNaNNaNNaNNaNNaNNaNNaNNaNNaNNaNNaNNaNNaNNaNNaNNaNNaNNaNNaNNaNNaNNaNNaNNaNNaNNaNNaNNaNNaNNaNNaNNaNNaNNaNNaNNaNNaNNaNNaNNaNNaNNaNNaNNaNNaNNaNNaNNaNNaNNaNNaNNaNNaNNaNNaNNaNNaNNaNNaNNaNNaNNaNNaNNaNNaNNaNNaNNaNNaNNaNNaNNaNNaNNaNNaNNaNNaNNaNNaNNaNNaNNaNNaNNaNNaNNaNNaNNaNNaNNaNNaNNaNNaNNaNNaNNaNNaNNaNNaNNaNNaNNaNNaNNaNNaNNaNNaNNaN0.0NaNNaN0.02.1NaNNaNNaNNaNNaNNaNNaNNaNNaNNaNNaNNaNNaNNaNNaNNaNNaNNaNNaNNaNNaNNaNNaNNaNNaNNaNNaNNaNNaNNaNNaNNaNNaNNaNNaNNaNNaNNaNNaNNaNNaNNaNNaNNaNNaNNaNNaNNaNNaNNaNNaNNaNNaNNaNNaNNaNNaNNaNNaNNaNNaNNaNNaNNaNNaNNaNNaNNaNNaNNaNNaNNaNNaNNaNNaNNaNNaNNaNNaNNaNNaNNaNNaNNaNNaNNaNNaNNaNNaNNaNNaNNaNNaNNaNNaNNaNNaNNaNNaNNaNNaNNaNNaNNaNNaNNaNNaNNaNNaNNaNNaNNaNNaNNaNNaNNaNNaNNaNNaNNaNNaNNaNNaNNaNNaNNaNNaNNaNNaNNaNNaNNaNNaNNaNNaNNaNNaNNaNNaNNaNNaNNaNNaNNaNNaNNaNNaNNaNNaNNaNNaNNaNNaNNaNNaNNaNNaNNaNNaNNaNNaNNaNNaNNaNNaNNaNNaNNaNNaNNaNNaNNaNNaNNaNNaNNaNNaNNaNNaNNaNNaNNaNNaNNaNNaNNaNNaNNaNNaNNaNNaNNaNNaNNaNNaNNaNNaNNaNNaNNaNNaNNaNNaNNaNNaNNaNNaNNaNNaNNaNNaNNaNNaNNaNNaNNaNNaNNaNNaNNaNNaNNaNNaNNaNNaNNaNNaNNaNNaNNaNNaNNaNNaNNaNNaNNaNNaNNaNNaNNaNNaNNaNNaNNaNNaNNaNNaNNaNNaNNaNNaNNaNNaNNaNNaNNaNNaNNaNNaNNaNNaNNaNNaNNaNNaNNaNNaNNaNNaNNaNNaNNaNNaNNaNNaNNaNNaNNaNNaNNaNNaNNaNNaNNaNNaNNaNNaNNaNNaNNaNNaNNaNNaNNaNNaNNaNNaNNaNNaNNaNNaNNaNNaNNaNNaNNaNNaNNaNNaNNaNNaNNaNNaNNaNNaNNaNNaNNaNNaNNaNNaNNaNNaNNaNNaNNaNNaNNaNNaNNaNNaNNaNNaNNaNNaNNaNNaNNaN0.0NaNNaNNaNNaNNaNNaNNaNNaNNaN0.4NaNNaNNaNNaNNaNNaNNaNNaNNaNNaNNaNNaNNaNNaNNaNNaNNaNNaNNaNNaNNaNNaNNaNNaNNaNNaNNaNNaNNaNNaNNaNNaNNaNNaNNaNNaNNaNNaNNaNNaNNaNNaNNaNNaNNaNNaNNaNNaNNaNNaNNaNNaNNaNNaNNaNNaNNaNNaNNaNNaNNaNNaNNaNNaNNaNNaNNaNNaNNaNNaNNaNNaNNaNNaNNaNNaNNaNNaNNaNNaNNaNNaNNaNNaNNaNNaNNaNNaNNaNNaNNaNNaNNaNNaNNaNNaNNaNNaNNaNNaNNaNNaNNaNNaNNaNNaNNaNNaNNaNNaNNaNNaNNaNNaNNaNNaNNaNNaNNaNNaNNaNNaNNaNNaNNaNNaNNaNNaNNaNNaNNaNNaNNaNNaNNaNNaNNaNNaNNaNNaNNaNNaNNaNNaNNaNNaNNaNNaNNaNNaNNaNNaNNaNNaNNaNNaNNaNNaNNaNNaNNaNNaNNaNNaNNaNNaNNaNNaNNaNNaNNaNNaNNaNNaNNaNNaNNaNNaNNaNNaNNaNNaNNaNNaNNaNNaNNaNNaNNaNNaNNaNNaNNaNNaNNaNNaNNaNNaNNaNNaNNaNNaNNaNNaNNaNNaNNaNNaNNaNNaNNaNNaNNaNNaNNaNNaNNaNNaNNaNNaNNaNNaNNaNNaNNaNNaNNaNNaNNaNNaNNaNNaNNaNNaNNaNNaNNaNNaNNaNNaNNaNNaN0.3NaNNaNNaNNaNNaNNaNNaNNaNNaNNaNNaNNaNNaNNaNNaNNaNNaNNaNNaNNaNNaNNaNNaNNaNNaNNaNNaNNaNNaNNaNNaNNaNNaNNaNNaNNaNNaNNaNNaNNaNNaNNaNNaNNaNNaNNaNNaNNaNNaNNaNNaNNaNNaNNaNNaNNaNNaNNaNNaNNaNNaNNaNNaNNaNNaNNaNNaNNaNNaNNaNNaNNaNNaNNaNNaNNaNNaNNaNNaNNaNNaNNaNNaNNaNNaNNaNNaNNaNNaNNaNNaNNaNNaNNaNNaNNaNNaNNaNNaNNaNNaNNaNNaNNaNNaNNaNNaNNaNNaNNaNNaNNaNNaNNaNNaNNaNNaNNaNNaNNaNNaNNaNNaNNaNNaNNaNNaNNaNNaNNaNNaNNaNNaNNaNNaNNaNNaNNaNNaNNaNNaNNaNNaNNaNNaNNaNNaNNaNNaNNaNNaNNaNNaNNaNNaNNaNNaNNaNNaNNaNNaNNaNNaNNaNNaNNaNNaNNaNNaNNaNNaNNaNNaNNaNNaNNaNNaNNaNNaNNaNNaNNaNNaNNaNNaNNaNNaNNaNNaNNaNNaNNaNNaNNaNNaNNaNNaNNaNNaNNaNNaNNaNNaNNaNNaNNaNNaNNaNNaNNaNNaNNaNNaNNaNNaNNaNNaNNaN0.0NaNNaNNaNNaNNaNNaNNaNNaNNaNNaNNaNNaNNaNNaNNaNNaNNaNNaNNaNNaNNaN0.0NaNNaNNaNNaNNaNNaNNaNNaNNaNNaNNaNNaNNaNNaNNaNNaNNaNNaNNaNNaNNaNNaNNaNNaNNaNNaNNaNNaNNaNNaNNaNNaNNaNNaNNaNNaNNaNNaNNaNNaNNaNNaNNaNNaNNaNNaNNaNNaNNaNNaNNaNNaNNaNNaNNaNNaNNaNNaNNaNNaNNaNNaNNaNNaNNaNNaNNaNNaNNaNNaNNaNNaNNaNNaNNaNNaNNaNNaNNaNNaNNaNNaNNaNNaNNaNNaNNaNNaNNaNNaNNaNNaNNaNNaNNaNNaN0.0NaNNaNNaNNaNNaNNaNNaNNaNNaNNaNNaNNaNNaNNaNNaNNaNNaNNaNNaNNaNNaNNaNNaNNaNNaNNaNNaNNaNNaNNaNNaNNaNNaNNaNNaNNaNNaNNaNNaNNaNNaNNaNNaNNaNNaNNaNNaNNaNNaNNaNNaNNaNNaNNaNNaNNaNNaNNaNNaNNaNNaNNaNNaNNaNNaNNaNNaNNaNNaNNaNNaNNaNNaNNaNNaNNaNNaNNaNNaNNaNNaNNaNNaNNaNNaNNaNNaNNaNNaNNaNNaNNaNNaNNaNNaNNaNNaNNaNNaNNaNNaNNaNNaNNaNNaNNaNNaNNaNNaNNaNNaNNaNNaNNaNNaNNaNNaNNaNNaNNaNNaNNaNNaNNaNNaNNaNNaNNaNNaNNaNNaNNaNNaNNaNNaNNaNNaNNaNNaN0.6NaNNaNNaNNaNNaNNaNNaNNaNNaNNaNNaNNaNNaNNaNNaNNaNNaNNaNNaNNaNNaNNaNNaNNaNNaNNaNNaNNaNNaNNaNNaNNaNNaNNaNNaNNaNNaNNaNNaNNaNNaNNaNNaNNaNNaNNaNNaNNaNNaNNaNNaNNaNNaNNaNNaNNaNNaNNaNNaNNaNNaNNaNNaNNaNNaNNaNNaNNaNNaNNaNNaNNaNNaNNaNNaNNaNNaNNaNNaNNaNNaNNaNNaNNaNNaNNaNNaNNaNNaNNaNNaNNaNNaNNaNNaNNaNNaNNaNNaNNaNNaNNaNNaNNaNNaNNaNNaNNaNNaNNaNNaNNaNNaNNaNNaNNaNNaNNaNNaNNaNNaNNaNNaNNaNNaNNaNNaNNaNNaNNaNNaNNaNNaNNaNNaNNaNNaNNaNNaNNaNNaNNaNNaNNaNNaNNaNNaNNaNNaNNaNNaNNaNNaNNaNNaNNaNNaNNaNNaNNaNNaNNaNNaNNaNNaNNaNNaNNaNNaNNaNNaNNaNNaNNaNNaNNaNNaNNaNNaNNaNNaNNaNNaNNaNNaNNaNNaNNaNNaNNaNNaNNaNNaNNaNNaNNaNNaNNaNNaNNaNNaNNaNNaNNaNNaNNaNNaNNaNNaNNaNNaNNaNNaNNaNNaNNaNNaNNaNNaNNaNNaNNaNNaNNaNNaNNaNNaNNaNNaNNaNNaNNaNNaNNaNNaNNaNNaNNaNNaNNaN3.0NaNNaNNaNNaNNaNNaNNaNNaNNaNNaNNaNNaNNaNNaNNaNNaNNaNNaNNaNNaNNaNNaNNaNNaNNaNNaNNaNNaNNaNNaNNaNNaNNaNNaNNaNNaNNaNNaNNaNNaNNaNNaNNaNNaNNaNNaNNaNNaNNaNNaNNaNNaNNaNNaNNaNNaNNaNNaNNaNNaNNaNNaNNaNNaNNaNNaNNaNNaNNaNNaNNaNNaNNaNNaNNaNNaNNaNNaNNaNNaNNaNNaNNaNNaNNaNNaNNaNNaNNaNNaNNaNNaNNaNNaNNaNNaNNaNNaNNaNNaNNaNNaNNaNNaNNaNNaNNaNNaNNaNNaNNaNNaNNaNNaNNaNNaNNaNNaN0.9NaNNaNNaNNaNNaNNaNNaNNaNNaNNaNNaNNaNNaNNaNNaNNaNNaNNaNNaNNaNNaNNaNNaNNaNNaNNaNNaNNaNNaNNaNNaNNaNNaNNaNNaNNaNNaNNaNNaNNaNNaNNaNNaNNaNNaNNaNNaNNaNNaNNaNNaNNaNNaNNaNNaNNaNNaNNaNNaNNaNNaNNaNNaNNaNNaNNaNNaNNaNNaNNaNNaNNaNNaNNaNNaNNaNNaNNaNNaNNaNNaNNaNNaNNaNNaNNaNNaNNaNNaNNaNNaNNaNNaNNaNNaN   0.0NaNNaNNaNNaNNaNNaNNaNNaNNaNNaNNaNNaNNaNNaNNaNNaNNaNNaNNaNNaNNaNNaNNaNNaNNaNNaNNaNNaNNaNNaNNaNNaNNaNNaNNaNNaNNaNNaNNaNNaNNaNNaNNaNNaNNaNNaNNaNNaNNaNNaNNaNNaNNaNNaNNaNNaNNaNNaNNaNNaNNaNNaNNaNNaNNaNNaNNaNNaNNaNNaNNaNNaNNaNNaNNaNNaNNaNNaNNaNNaNNaNNaNNaNNaNNaNNaNNaNNaNNaNNaNNaNNaNNaNNaNNaNNaNNaNNaNNaNNaNNaNNaNNaNNaNNaNNaNNaNNaNNaNNaNNaNNaNNaNNaNNaNNaNNaNNaNNaNNaNNaNNaNNaNNaNNaNNaNNaNNaNNaNNaNNaNNaNNaNNaN   0.0NaNNaNNaNNaNNaNNaNNaNNaNNaNNaNNaNNaNNaN                                                                                                                                                                                                                                                                                                                                                                                                                                                                                                                                                                                                                                                                                                          4.8                                                                   0.0                                                                                                                                                                                                                                                                                                                                                                                                                                                                                                                                                                                                                                                                                                                                                     0.0                                                                                                             2.6                                                     0.0                  0.0        NaNNaNNaNNaNNaNNaNNaNNaNNaNNaNNaNNaNNaNNaNNaNNaNNaNNaNNaNNaNNaNNaNNaNNaNNaNNaNNaNNaNNaNNaNNaNNaNNaNNaNNaNNaNNaNNaNNaNNaNNaNNaNNaNNaNNaNNaNNaNNaNNaNNaNNaNNaNNaNNaNNaNNaNNaNNaNNaNNaNNaNNaNNaNNaNNaNNaNNaNNaNNaNNaNNaNNaNNaNNaNNaNNaNNaNNaNNaNNaNNaNNaNNaNNaNNaNNaNNaNNaNNaNNaNNaNNaNNaNNaNNaNNaNNaNNaNNaNNaNNaNNaNNaNNaNNaNNaNNaNNaNNaNNaNNaNNaNNaNNaNNaNNaNNaN   0.0NaNNaNNaNNaNNaNNaNNaNNaNNaNNaNNaNNaNNaNNaNNaNNaNNaNNaNNaNNaNNaNNaNNaNNaNNaNNaNNaNNaNNaNNaNNaNNaNNaNNaNNaNNaNNaNNaNNaNNaNNaNNaNNaNNaNNaNNaNNaNNaNNaNNaNNaNNaNNaNNaNNaNNaNNaNNaNNaNNaNNaNNaNNaNNaNNaNNaNNaNNaNNaNNaNNaNNaNNaNNaNNaNNaNNaNNaNNaNNaNNaNNaNNaNNaNNaNNaNNaNNaNNaNNaNNaNNaNNaNNaNNaNNaNNaNNaNNaNNaNNaNNaNNaNNaNNaNNaNNaNNaNNaNNaNNaNNaNNaNNaNNaNNaNNaNNaNNaNNaNNaNNaNNaNNaNNaNNaNNaNNaNNaNNaNNaNNaNNaNNaNNaNNaNNaNNaNNaNNaNNaNNaNNaNNaNNaNNaNNaNNaNNaNNaNNaNNaNNaNNaNNaNNaNNaNNaNNaNNaNNaNNaNNaNNaNNaNNaNNaNNaNNaNNaNNaNNaNNaNNaNNaNNaNNaNNaNNaNNaNNaNNaNNaNNaNNaNNaNNaNNaNNaNNaNNaNNaNNaNNaNNaNNaNNaNNaNNaNNaNNaNNaNNaNNaNNaNNaNNaNNaNNaNNaNNaNNaNNaNNaNNaNNaNNaNNaNNaNNaNNaNNaNNaNNaNNaNNaNNaNNaNNaNNaNNaN   0.0NaNNaNNaNNaNNaNNaNNaNNaNNaNNaNNaNNaNNaNNaNNaNNaNNaNNaNNaNNaNNaNNaNNaNNaNNaNNaNNaNNaNNaNNaNNaNNaNNaNNaNNaNNaNNaNNaNNaNNaNNaNNaNNaNNaNNaNNaNNaNNaNNaNNaNNaNNaNNaNNaNNaNNaNNaNNaNNaNNaNNaNNaNNaNNaNNaNNaNNaNNaNNaNNaNNaNNaNNaNNaNNaNNaNNaNNaNNaNNaNNaNNaNNaNNaNNaNNaNNaNNaNNaNNaNNaNNaNNaNNaNNaNNaNNaNNaNNaNNaNNaNNaNNaNNaNNaNNaNNaNNaNNaNNaNNaNNaNNaNNaNNaNNaNNaNNaNNaNNaNNaNNaNNaNNaNNaNNaNNaNNaNNaNNaNNaNNaNNaNNaNNaNNaNNaNNaNNaNNaNNaNNaNNaNNaNNaNNaNNaNNaNNaNNaNNaNNaNNaNNaNNaNNaNNaNNaNNaNNaNNaNNaNNaNNaNNaNNaNNaNNaNNaNNaNNaNNaNNaNNaNNaNNaNNaNNaNNaNNaNNaNNaNNaNNaNNaNNaNNaNNaNNaNNaNNaNNaNNaNNaNNaNNaNNaNNaNNaNNaNNaNNaNNaNNaNNaNNaNNaNNaNNaNNaNNaNNaNNaNNaNNaNNaNNaNNaNNaNNaN   0.0NaNNaN   0.0NaNNaNNaN   0.0NaNNaNNaNNaNNaNNaNNaNNaNNaNNaNNaNNaNNaNNaNNaNNaNNaNNaNNaNNaNNaNNaNNaNNaNNaNNaNNaNNaNNaNNaNNaNNaNNaNNaNNaNNaNNaNNaNNaNNaNNaNNaNNaNNaNNaNNaNNaNNaNNaNNaNNaNNaNNaNNaNNaNNaNNaNNaNNaNNaNNaNNaNNaNNaNNaNNaNNaNNaNNaNNaNNaNNaNNaNNaNNaNNaNNaNNaNNaNNaNNaNNaNNaNNaNNaNNaNNaNNaNNaNNaNNaNNaNNaNNaNNaNNaNNaNNaNNaNNaNNaNNaNNaNNaNNaNNaNNaNNaNNaNNaNNaNNaNNaNNaN   0.0NaNNaNNaNNaNNaNNaNNaNNaNNaN   0.0NaNNaNNaNNaNNaNNaNNaNNaN   0.0NaNNaNNaNNaNNaNNaNNaNNaNNaNNaNNaNNaNNaNNaNNaNNaNNaNNaNNaNNaNNaNNaNNaNNaNNaNNaNNaNNaNNaNNaNNaNNaNNaNNaNNaNNaNNaNNaNNaNNaNNaNNaNNaNNaNNaNNaNNaNNaNNaNNaNNaNNaNNaNNaNNaNNaNNaNNaNNaNNaNNaNNaNNaNNaNNaNNaNNaNNaNNaNNaNNaNNaNNaNNaNNaNNaNNaNNaNNaNNaNNaNNaNNaNNaNNaNNaNNaNNaNNaNNaNNaNNaNNaNNaNNaNNaNNaNNaNNaNNaNNaNNaNNaNNaNNaNNaN0.0NaNNaNNaNNaNNaNNaNNaN0.0NaNNaNNaNNaNNaNNaNNaNNaNNaNNaNNaNNaNNaNNaNNaNNaNNaNNaNNaNNaNNaNNaNNaNNaNNaNNaNNaNNaNNaNNaNNaNNaNNaNNaNNaNNaNNaNNaNNaNNaNNaNNaNNaNNaNNaNNaNNaNNaNNaNNaNNaNNaNNaNNaNNaNNaNNaNNaNNaNNaNNaNNaNNaNNaNNaNNaNNaNNaNNaNNaNNaNNaNNaNNaNNaNNaNNaNNaNNaNNaNNaNNaNNaNNaNNaNNaNNaNNaNNaNNaNNaNNaNNaNNaNNaNNaNNaNNaNNaNNaNNaNNaNNaNNaNNaNNaNNaNNaNNaNNaNNaNNaNNaNNaNNaNNaNNaNNaNNaNNaNNaNNaNNaNNaNNaNNaNNaNNaNNaNNaNNaNNaNNaNNaNNaNNaNNaNNaNNaNNaNNaNNaNNaNNaNNaNNaNNaNNaNNaNNaNNaNNaNNaNNaNNaNNaNNaNNaNNaNNaNNaNNaNNaNNaNNaNNaNNaNNaNNaNNaNNaNNaNNaNNaNNaNNaNNaNNaNNaNNaNNaNNaNNaNNaNNaNNaNNaNNaNNaNNaNNaNNaNNaNNaNNaNNaNNaNNaNNaNNaNNaNNaNNaNNaNNaNNaNNaNNaNNaNNaNNaNNaNNaNNaNNaNNaNNaNNaNNaNNaNNaNNaNNaNNaNNaNNaNNaNNaNNaNNaNNaNNaNNaNNaNNaNNaNNaNNaNNaNNaNNaNNaNNaNNaNNaNNaNNaNNaNNaN0.0NaNNaNNaNNaNNaNNaNNaNNaNNaNNaNNaNNaNNaNNaNNaNNaNNaNNaNNaNNaNNaNNaNNaNNaNNaNNaNNaNNaNNaNNaNNaNNaNNaNNaNNaNNaNNaNNaNNaNNaNNaNNaNNaNNaNNaNNaNNaNNaNNaNNaNNaNNaNNaNNaNNaNNaNNaNNaNNaNNaNNaNNaNNaNNaNNaNNaNNaNNaNNaNNaNNaNNaNNaNNaNNaNNaNNaNNaNNaNNaNNaNNaNNaNNaNNaNNaNNaNNaNNaNNaNNaNNaNNaNNaNNaNNaNNaNNaNNaNNaNNaNNaNNaNNaNNaNNaNNaNNaNNaNNaNNaN0.0NaNNaNNaNNaNNaNNaN0.0NaNNaNNaNNaNNaNNaNNaNNaNNaNNaNNaNNaNNaNNaNNaNNaNNaNNaNNaNNaNNaNNaNNaNNaNNaNNaNNaNNaNNaNNaNNaNNaNNaNNaNNaNNaNNaNNaNNaNNaNNaNNaNNaNNaNNaNNaNNaNNaNNaNNaNNaNNaNNaNNaNNaNNaNNaNNaNNaNNaNNaNNaNNaNNaNNaNNaNNaNNaNNaNNaNNaNNaNNaNNaNNaNNaNNaNNaNNaNNaNNaNNaNNaNNaNNaNNaNNaNNaNNaNNaNNaNNaNNaNNaNNaNNaNNaNNaNNaNNaNNaNNaNNaNNaNNaNNaNNaNNaN0NaNNaNNaNNaNNaNNaNNaNNaN03.2NaNNaNNaNNaNNaNNaNNaNNaNNaNNaNNaNNaNNaNNaNNaNNaNNaNNaNNaNNaNNaNNaNNaNNaNNaNNaNNaNNaNNaNNaNNaNNaNNaNNaNNaNNaNNaNNaNNaNNaNNaNNaNNaNNaNNaNNaNNaNNaNNaNNaNNaNNaNNaNNaNNaNNaNNaNNaNNaNNaNNaNNaNNaNNaNNaNNaNNaNNaNNaNNaNNaNNaNNaNNaNNaNNaNNaNNaNNaNNaNNaNNaNNaNNaNNaNNaNNaNNaNNaNNaNNaNNaNNaNNaNNaNNaNNaNNaNNaNNaNNaNNaNNaNNaNNaNNaNNaNNaNNaNNaNNaNNaNNaNNaNNaN30NaN00NaNNaNNaNNaNNaN'"
      ]
     },
     "execution_count": 486,
     "metadata": {},
     "output_type": "execute_result"
    }
   ],
   "source": [
    "asd=result_vertical[result_vertical['wmo_id']==4126140]\n",
    "abc=asd[asd['date'].dt.month==9]\n",
    "abc['Precipitation'].sum()"
   ]
  },
  {
   "cell_type": "code",
   "execution_count": 308,
   "id": "60e69238",
   "metadata": {},
   "outputs": [],
   "source": [
    "# b=int(input(\"Stansiya id raqamini kiriting = \"))\n",
    "# ddff=result_vertical[result_vertical['wmo_id']==b]\n",
    "\n",
    "# df_id=id_met[id_met['wmo_id']==str(b)]\n",
    "# id=df_id.iloc[0][2]\n",
    "\n",
    "# ddf=result_vertical[['date','T_air']]\n",
    "# ddf['T_air'] = pd.to_numeric(ddf['T_air'], errors='coerce')\n",
    "# ddf1 = ddf.groupby(pd.Grouper(key='date', freq='M')).mean()\n",
    "# # ddf1=ddf1[1:]\n",
    "# ddf1=ddf1.reset_index('date')\n",
    "# ddf1=ddf1[ddf1['date']<='2022']\n",
    "# ddf1"
   ]
  },
  {
   "cell_type": "code",
   "execution_count": 401,
   "id": "60ddda4a",
   "metadata": {},
   "outputs": [],
   "source": [
    "# ddff=result_vertical[result_vertical['wmo_id']=='4126140']\n",
    "# ddf=ddff[['date','T_air']]\n",
    "# ddf['T_air'] = pd.to_numeric(ddf['T_air'], errors='coerce')\n",
    "\n",
    "# sd=ddff[ddff['date'].dt.year==2001]\n",
    "# sd\n",
    "# # ddf1 = ddf.groupby(pd.Grouper(key='date', freq='M')).mean()\n",
    "# # ddf1=ddf1[1:]\n",
    "# ddf1=ddf1.reset_index('date')\n",
    "# ddf2=ddf1[ddf1['date']<='2022']\n",
    "# print(ddf2)"
   ]
  },
  {
   "cell_type": "code",
   "execution_count": 452,
   "id": "37e57a49",
   "metadata": {},
   "outputs": [],
   "source": [
    "# b=int(input(\"Stansiya id raqamini kiriting = \"))\n",
    "# ddff=result_vertical[result_vertical['wmo_id']==b]\n",
    "# print(ddff)\n",
    "# ddf=ddff[['date','T_air']]\n",
    "# # print(ddf)\n",
    "\n",
    "# df_id=id_met[id_met['wmo_id']==str(b)]\n",
    "# id=df_id.iloc[0][2]\n",
    "\n",
    "\n",
    "# ddf['T_air'] = pd.to_numeric(ddf['T_air'], errors='coerce')\n",
    "# ddf1 = ddf.groupby(pd.Grouper(key='date', freq='M')).mean()\n",
    "# # ddf1=ddf1[1:]\n",
    "\n",
    "# ddf1=ddf1.reset_index('date')\n",
    "# ddf2=ddf1[ddf1['date']<='2022']\n",
    "# # print(ddf2.head(30))\n",
    "\n",
    "# datax=np.zeros((22, 12))\n",
    "# jj=0\n",
    "# # new_index = ['2000', '2001', '2002', '2003','2004', '2005', '2006', '2007', '2008', '2009', '2010', '2011', '2012', '2013', '2014', '2015', '2016', '2017', '2018', '2019', '2020', '2021']\n",
    "\n",
    "# for i in range(len(ddf2)):\n",
    "#     d= ddf2.loc[i]\n",
    "#     yil=int(d[0].year-2000)\n",
    "# #     print(yil)\n",
    "#     month=int(d[0].month-1)\n",
    "\n",
    "#     datax[yil,month]=d[1].round(1)\n",
    "#     datax_yil=pd.DataFrame(datax)\n",
    "    \n",
    "#     datax_yil.columns=['yanvar','fevral','mart','aprel','may','iyun','iyul','avgust','sentabr','oktabr','noyabr','dekabr']\n",
    "# #     datax_yil.insert(0,'year',str(new_index[0]))\n",
    "# datax_yil.to_excel(\"D:/Gidromet/Meteoss/\" + str(id)+\".xlsx\", header=True)\n",
    "# print(datax_yil)"
   ]
  },
  {
   "cell_type": "code",
   "execution_count": 489,
   "id": "ba1f8bfa",
   "metadata": {},
   "outputs": [
    {
     "name": "stdout",
     "output_type": "stream",
     "text": [
      "Stansiya id raqamini kiriting = 4126140\n"
     ]
    },
    {
     "name": "stderr",
     "output_type": "stream",
     "text": [
      "C:\\Users\\User\\AppData\\Local\\Temp\\ipykernel_8128\\1471593517.py:11: SettingWithCopyWarning: \n",
      "A value is trying to be set on a copy of a slice from a DataFrame.\n",
      "Try using .loc[row_indexer,col_indexer] = value instead\n",
      "\n",
      "See the caveats in the documentation: https://pandas.pydata.org/pandas-docs/stable/user_guide/indexing.html#returning-a-view-versus-a-copy\n",
      "  ddf['Precipitation'] = pd.to_numeric(ddf['Precipitation'], errors='coerce')\n"
     ]
    }
   ],
   "source": [
    "b=int(input(\"Stansiya id raqamini kiriting = \"))\n",
    "ddff=result_vertical[result_vertical['wmo_id']==b]\n",
    "\n",
    "ddf=ddff[['date','Precipitation']]\n",
    "# print(ddf)\n",
    "\n",
    "df_id=id_met[id_met['wmo_id']==str(b)]\n",
    "id=df_id.iloc[0][2]\n",
    "\n",
    "\n",
    "ddf['Precipitation'] = pd.to_numeric(ddf['Precipitation'], errors='coerce')\n",
    "ddf1 = ddf.groupby(pd.Grouper(key='date', freq='M')).sum()\n",
    "# ddf1=ddf1[1:]\n",
    "\n",
    "ddf1=ddf1.reset_index('date')\n",
    "ddf2=ddf1[ddf1['date']<='2022']\n",
    "# print(ddf2.head(30))\n",
    "\n",
    "datax=np.zeros((22, 12))\n",
    "jj=0\n",
    "# new_index = ['2000', '2001', '2002', '2003','2004', '2005', '2006', '2007', '2008', '2009', '2010', '2011', '2012', '2013', '2014', '2015', '2016', '2017', '2018', '2019', '2020', '2021']\n",
    "\n",
    "for i in range(len(ddf2)):\n",
    "    d= ddf2.loc[i]\n",
    "    yil=int(d[0].year-2000)\n",
    "#     print(yil)\n",
    "    month=int(d[0].month-1)\n",
    "\n",
    "    datax[yil,month]=d[1].round(1)\n",
    "    datax_yil=pd.DataFrame(datax)\n",
    "    \n",
    "    datax_yil.columns=['yanvar','fevral','mart','aprel','may','iyun','iyul','avgust','sentabr','oktabr','noyabr','dekabr']\n",
    "#     datax_yil.insert(0,'year',str(new_index[0]))\n",
    "datax_yil.to_excel(\"D:/Gidromet/meteos_yog'in/\" + str(id)+\".xlsx\", header=True)\n"
   ]
  },
  {
   "cell_type": "code",
   "execution_count": null,
   "id": "ccf8d763",
   "metadata": {},
   "outputs": [],
   "source": [
    "new_index = ['Safari', 'Iceweasel', 'Comodo Dragon', 'IE10',\n",
    "             'Chrome']\n",
    "df.reindex(new_index)\n",
    "               http_status  response_time\n",
    "Safari               404.0           0.07\n",
    "Iceweasel              NaN            NaN\n",
    "Comodo Dragon          NaN            NaN\n",
    "IE10                 404.0           0.08\n",
    "Chrome               200.0           0.02"
   ]
  },
  {
   "cell_type": "code",
   "execution_count": 299,
   "id": "335eff26",
   "metadata": {},
   "outputs": [],
   "source": [
    "\n",
    "# datax=np.zeros((22, 12))\n",
    "# jj=0\n",
    "\n",
    "# for i in range(len(ddf1)):\n",
    "#     d= ddf1.loc[i]\n",
    "#     yil=int(d[0].year-2000)\n",
    "# #     print(yil)\n",
    "#     month=int(d[0].month-1)\n",
    "\n",
    "#     datax[yil,month]=d[1].round(1)\n",
    "#     datax_yil=pd.DataFrame(datax)\n",
    "#     datax_yil.columns=['yanvar','fevral','mart','aprel','may','iyun','iyul','avgust','sentabr','oktabr','noyabr','dekabr']\n",
    "#     datax_yil.to_excel(\"D:/Gidromet/datax_yil.xlsx\", header=True)\n",
    "# print(datax_yil)\n",
    "    \n"
   ]
  },
  {
   "cell_type": "code",
   "execution_count": 301,
   "id": "1f169494",
   "metadata": {},
   "outputs": [],
   "source": [
    "# month_mean = []\n",
    "# datax=np.zeros((1, 12))\n",
    "# jj=0  \n",
    "# for j in range(0,13):\n",
    "#     df1 = df[df['date'].dt.month == j]\n",
    "#     df2 = df1.groupby(pd.Grouper(key='date', freq='M')).mean()\n",
    "#     df3=df2['DHI'].mean()\n",
    "\n",
    "#     month_mean.append((j,df3))\n",
    "#     datax[jj][j-1]=df3\n",
    "# jj+=1   \n",
    "# dat=pd.DataFrame(datax)\n",
    "# dat"
   ]
  },
  {
   "cell_type": "code",
   "execution_count": null,
   "id": "4aa8df93",
   "metadata": {},
   "outputs": [],
   "source": []
  },
  {
   "cell_type": "code",
   "execution_count": null,
   "id": "ee307187",
   "metadata": {},
   "outputs": [],
   "source": []
  },
  {
   "cell_type": "code",
   "execution_count": 227,
   "id": "8d4c7582",
   "metadata": {},
   "outputs": [],
   "source": [
    "# month_mean = []\n",
    "# datax=np.zeros((21, 12))\n",
    "# # datax.columns=['yanvar','fevral','mart','aprel','may','iyun','iyul','avgust','sentabr','oktabr','noyabr','dekabr']\n",
    "# jj=0\n",
    "# for i in range(2000,2020):\n",
    "#     for j in range(1,13):\n",
    "#         print(\"sikl boshlandi\")\n",
    "#         df00=df[df['id']== '4076450']\n",
    "#     #     print(df00)\n",
    "#         df00['hour'] = pd.to_datetime(df00['hour'], format='%H:%M').dt.hour\n",
    "#         df00['date'] = pd.to_datetime(df00[['year', 'month', 'day','hour']])\n",
    "#         df01=df00[['date','T_air']]\n",
    "#         df01['T_air'] = df01['T_air'].astype(float)\n",
    "#         dfdf=df01[df01['date'].dt.year == i]\n",
    "#         df1 = df01[df01['date'].dt.month == j]\n",
    "\n",
    "#         df02 = df1.groupby(pd.Grouper(key='date', freq='M')).mean()\n",
    "        \n",
    "#         df3=df02['T_air'].mean()\n",
    "\n",
    "#         month_mean.append((j,df3))\n",
    "#         datax[jj][j-1]=df3\n",
    "# #         print(df3)\n",
    "#     jj+=1   \n",
    "# #     data_new['yanvar'] = yanvar_values\n",
    "#     dat=pd.DataFrame(datax)\n",
    "#     print(dat)"
   ]
  },
  {
   "cell_type": "code",
   "execution_count": 228,
   "id": "c7f7766b",
   "metadata": {},
   "outputs": [],
   "source": [
    "# import pandas as pd\n",
    "# import numpy as np\n",
    "\n",
    "# # Assuming you have a DataFrame named 'df' with a 'date' column and a 'DHI' column\n",
    "\n",
    "# month_mean = []\n",
    "# datax = []\n",
    "\n",
    "# for i in range(0, 21):\n",
    "#     row = []\n",
    "#     for j in range(1, 13):\n",
    "#         df00=df[df['id']== '4076450']\n",
    "#     #     print(df00)\n",
    "#         df00['hour'] = pd.to_datetime(df00['hour'], format='%H:%M').dt.hour\n",
    "#         df00['date'] = pd.to_datetime(df00[['year', 'month', 'day','hour']])\n",
    "#         df01=df00[['date','T_air']]\n",
    "#         df01['T_air'] = df01['T_air'].astype(float)\n",
    "#         df1 = df01[df01['date'].dt.month == j]\n",
    "#         df2 = df1.groupby(pd.Grouper(key='date', freq='M')).mean()\n",
    "#         print(df2)\n",
    "#         df3 = df2['T_air'][i]\n",
    "#         month_mean.append((j, df3))\n",
    "#         row.append(df3)\n",
    "#     datax.append(row)\n",
    "\n",
    "# dat = pd.DataFrame(datax)\n",
    "# dat"
   ]
  },
  {
   "cell_type": "code",
   "execution_count": null,
   "id": "1c598a40",
   "metadata": {},
   "outputs": [],
   "source": []
  },
  {
   "cell_type": "markdown",
   "id": "1b2db68a",
   "metadata": {},
   "source": [
    "# Oylik va Yillik Yogingarchilik summalarni hisoblash."
   ]
  },
  {
   "cell_type": "code",
   "execution_count": 229,
   "id": "52b57a0b",
   "metadata": {},
   "outputs": [],
   "source": [
    "# b=int(input(\"Stansiya id raqamini kiriting = \"))\n",
    "# t = input(\"Oylik yoki Yillik summani tanlang: \") \n",
    "\n",
    "# # Biron bir Id raqamni ajratib olish\n",
    "# df00=df[df['id']== str(b)]\n",
    "# df_id=id_met[id_met['wmo_id']==str(b)]\n",
    "# print(df_id)\n",
    "# id=df_id.iloc[0][2]\n",
    "# print(id)\n",
    "# #Stansiya malumotlari ichidan vaqt va Harorat ustunini alohida ajratib olish\n",
    "\n",
    "# df00['hour'] = pd.to_datetime(df00['hour'], format='%H:%M').dt.hour\n",
    "# df00['date'] = pd.to_datetime(df00[['year', 'month', 'day','hour']])\n",
    "# df01=df00[['date','T_air']]\n",
    "# # df01=df01.set_index('date')\n",
    "\n",
    "# df01['T_air'] = pd.to_numeric(df01['T_air'], errors='coerce')\n",
    "# # Har kunlik uchun o'rtacha qiymatlarni hisoblash\n",
    "# df02=df01.groupby([pd.Grouper(key='date',freq='D')]).mean()\n",
    "\n",
    "# df02=df02.reset_index('date')\n",
    "# # Har kunlik o'rtacha qiymatlar orqali oylik o'rtacha qiymatlarni hisoblash\n",
    "# df03=df02.groupby([pd.Grouper(key='date',freq='M')]).mean()\n",
    "# #yillik\n",
    "# df04=df01.groupby([pd.Grouper(key='date',freq='D')]).mean()\n",
    "\n",
    "# df04=df04.reset_index('date')\n",
    "# # Har kunlik o'rtacha qiymatlar orqali oylik o'rtacha qiymatlarni hisoblash\n",
    "# df05=df04.groupby([pd.Grouper(key='date',freq='M')]).mean()\n",
    "\n",
    "# #Stansiya ma\\lumotlarini ichidan vaqt va \n",
    "# df_osat=df00[['date','Precipitation']]\n",
    "\n",
    "# df_osat['Precipitation'] = pd.to_numeric(df_osat['Precipitation'], errors='coerce')\n",
    "\n",
    "# # Har yillik summani hisoblash\n",
    "# df3=df_osat.groupby([pd.Grouper(key='date',freq='M')]).sum()\n",
    "# df4=df_osat.groupby([pd.Grouper(key='date',freq='Y')]).sum()\n",
    "\n",
    "# # Ikkita ataframeni bir biriga moslab qo'hish\n",
    "# df12 = pd.merge(df03, df3, on=['date'], how='inner')\n",
    "# df12=df12.reset_index('date')\n",
    "# #\n",
    "# df13 = pd.merge(df03, df4, on=['date'], how='inner')\n",
    "# df13=df13.reset_index('date')\n",
    "# #stansiya nomi 1- ustunga yozish\n",
    "# df12.insert(0,'Stansiya',str(id))\n",
    "# df13.insert(0,'Stansiya',str(id))\n",
    "\n",
    "# # 2000-2020 yil oraligiga filtr qo'shish\n",
    "# df12=df12[1:]\n",
    "# df13=df13[1:]\n",
    "\n",
    "\n",
    "# if t == \"Oylik\":\n",
    "#     print(df12)\n",
    "#     df12.to_excel(\"D:/Gidromet/\" + str(id)+\"_\"+str(t)+\".xlsx\", header=True)\n",
    "# else: \n",
    "#     print(df13)\n",
    "#     df13.to_excel(\"D:/Gidromet/\" + str(id)+\"_\"+str(t)+\".xlsx\", header=True)\n"
   ]
  },
  {
   "cell_type": "markdown",
   "id": "1919016a",
   "metadata": {},
   "source": [
    "# Oylik yogingarchilik miqdorini summasini topish"
   ]
  },
  {
   "cell_type": "code",
   "execution_count": 570,
   "id": "09a6ba55",
   "metadata": {
    "scrolled": true
   },
   "outputs": [],
   "source": [
    "# b=int(input(\"Stansiya id raqamini kiritig = \"))\n",
    "# # Biron bir Id raqamni ajratib olish\n",
    "# df00=df[df['id']== int(b)]\n",
    "# df_id=id_met[id_met['wmo_id']==b]\n",
    "# id=df_id.iloc[0][2]\n",
    "# print(id)\n",
    "# #Stansiya malumotlari ichidan vaqt va Harorat ustunini alohida ajratib olish\n",
    "\n",
    "# df00['hour'] = pd.to_datetime(df00['hour'], format='%H:%M').dt.hour\n",
    "# df00['date'] = pd.to_datetime(df00[['year', 'month', 'day','hour']])\n",
    "# df01=df00[['date','T_air']]\n",
    "# # df01=df01.set_index('date')\n",
    "\n",
    "# df01['T_air'] = pd.to_numeric(df01['T_air'], errors='coerce')\n",
    "# # Har kunlik uchun o'rtacha qiymatlarni hisoblash\n",
    "# df02=df01.groupby([pd.Grouper(key='date',freq='D')]).mean()\n",
    "\n",
    "# df02=df02.reset_index('date')\n",
    "# # Har kunlik o'rtacha qiymatlar orqali oylik o'rtacha qiymatlarni hisoblash\n",
    "# df03=df02.groupby([pd.Grouper(key='date',freq='M')]).mean()\n",
    "\n",
    "# #Stansiya ma\\lumotlarini ichidan vaqt va \n",
    "# df_osat=df00[['date','Precipitation']]\n",
    "\n",
    "# df_osat['Precipitation'] = pd.to_numeric(df_osat['Precipitation'], errors='coerce')\n",
    "\n",
    "# # Har oylik summani hisoblash\n",
    "# df3=df_osat.groupby([pd.Grouper(key='date',freq='M')]).sum()\n",
    "# # Ikkita ataframeni bir biriga moslab qo'hish\n",
    "# df12 = pd.merge(df03, df3, on=['date'], how='inner')\n",
    "# df12=df12.reset_index('date')\n",
    "\n",
    "# #stansiya nomi 1- ustunga yozish\n",
    "# df12.insert(0,'Stansiya',str(id))\n",
    "# # 2000-2020 yil oraligiga filtr qo'shish\n",
    "# df12=df12[1:]\n",
    "# df12=df12[df12['date'].dt.year<=2020]\n",
    "# df12\n",
    "\n",
    "# # df12.to_excel(\"D:/Gidromet/\" + str(id)+\".xlsx\", header=False)"
   ]
  },
  {
   "cell_type": "markdown",
   "id": "c75c4173",
   "metadata": {},
   "source": [
    "# Yiilik yogingarchilik miqdorini summasini topish"
   ]
  },
  {
   "cell_type": "code",
   "execution_count": 563,
   "id": "e8bd55df",
   "metadata": {},
   "outputs": [],
   "source": [
    "# b=int(input(\"Stansiya id raqamini kiritig = \"))\n",
    "# # Biron bir Id raqamni ajratib olish\n",
    "# df00=df[df['id']== int(b)]\n",
    "# df_id=id_met[id_met['wmo_id']==b]\n",
    "# id=df_id.iloc[0][2]\n",
    "# print(id)\n",
    "# #Stansiya malumotlari ichidan vaqt va Harorat ustunini alohida ajratib olish\n",
    "\n",
    "# df00['hour'] = pd.to_datetime(df00['hour'], format='%H:%M').dt.hour\n",
    "# df00['date'] = pd.to_datetime(df00[['year', 'month', 'day','hour']])\n",
    "# df01=df00[['date','T_air']]\n",
    "# # df01=df01.set_index('date')\n",
    "\n",
    "# df01['T_air'] = pd.to_numeric(df01['T_air'], errors='coerce')\n",
    "# # Har kunlik uchun o'rtacha qiymatlarni hisoblash\n",
    "# df02=df01.groupby([pd.Grouper(key='date',freq='D')]).mean()\n",
    "\n",
    "# df02=df02.reset_index('date')\n",
    "# # Har kunlik o'rtacha qiymatlar orqali oylik o'rtacha qiymatlarni hisoblash\n",
    "# df03=df02.groupby([pd.Grouper(key='date',freq='Y')]).mean()\n",
    "\n",
    "# #Stansiya ma\\lumotlarini ichidan vaqt va \n",
    "# df_osat=df00[['date','Precipitation']]\n",
    "\n",
    "# df_osat['Precipitation'] = pd.to_numeric(df_osat['Precipitation'], errors='coerce')\n",
    "\n",
    "# # Har oylik summani hisoblash\n",
    "# df3=df_osat.groupby([pd.Grouper(key='date',freq='Y')]).sum()\n",
    "# # Ikkita ataframeni bir biriga moslab qo'hish\n",
    "# df12 = pd.merge(df03, df3, on=['date'], how='inner')\n",
    "# df12=df12.reset_index('date')\n",
    "\n",
    "# #stansiya nomi 1- ustunga yozish\n",
    "# df12.insert(0,'Stansiya',str(id))\n",
    "# # 2000-2020 yil oraligiga filtr qo'shish\n",
    "# df12=df12[1:]\n",
    "# df12=df12[df12['date'].dt.year<=2020]\n",
    "# df12\n",
    "\n",
    "# df12.to_excel(\"D:/Gidromet/\" + str(id)+\".xlsx\", header=False)"
   ]
  },
  {
   "cell_type": "code",
   "execution_count": 203,
   "id": "5e9de69d",
   "metadata": {},
   "outputs": [],
   "source": [
    "Soat ustunini filtrlash\n",
    "# hour = pd.to_datetime(df['hour'], format='%H:%M').dt.hour\n",
    "# hour"
   ]
  },
  {
   "cell_type": "code",
   "execution_count": 514,
   "id": "dee47428",
   "metadata": {},
   "outputs": [],
   "source": [
    "# To'rtta vaqt o\\lchovlari orqali bitta date ustuni yaratish\n",
    "# df['hour'] = pd.to_datetime(df['hour'], format='%H:%M').dt.hour\n",
    "# df['date'] = pd.to_datetime(df[['year', 'month', 'day','hour']])"
   ]
  },
  {
   "cell_type": "code",
   "execution_count": 515,
   "id": "1a3a7f62",
   "metadata": {},
   "outputs": [],
   "source": [
    "# dataframe ustunlarini \n",
    "# df['T_air'] = pd.to_numeric(df['T_air'], errors='coerce')\n",
    "# df['T_dew_point'] = pd.to_numeric(df['T_dew_point'], errors='coerce')"
   ]
  },
  {
   "cell_type": "code",
   "execution_count": 565,
   "id": "fa40b6fe",
   "metadata": {},
   "outputs": [],
   "source": [
    "# df['TGK']=((df['T_air']-df['T_dew_point'])/(df['T_air']+273))*1000\n",
    "# df1=df[['id',\"date\",'T_air','T_dew_point','TGK']]\n",
    "# df1=df1.set_index('date')\n",
    "# df2 = df1['TGK'].resample('D').agg(['max'])\n",
    "# df2=df2.reset_index('date')\n",
    "# df3=df2.groupby([pd.Grouper(key='date',freq='M')]).sum()\n",
    "# df4=df3.reset_index('date')\n",
    "# df4=df4[1:]\n",
    "\n",
    "# df1.to_csv('D:/Gidromet/tgk/data_tayyor.txt', header=False)"
   ]
  },
  {
   "cell_type": "code",
   "execution_count": null,
   "id": "b2d1f81d",
   "metadata": {},
   "outputs": [],
   "source": []
  },
  {
   "cell_type": "code",
   "execution_count": 567,
   "id": "b50beed7",
   "metadata": {},
   "outputs": [],
   "source": [
    "# Grafik chizish.\n",
    "# import matplotlib.pyplot as plt\n",
    "# import numpy as np\n",
    "\n",
    "# x1 = df4['date']\n",
    "# y1=df4['tgk']\n",
    "# # y1 = temp_day1['temp_yer']\n",
    "# # y2 = temp8['temp_yer']\n",
    "\n",
    "# fig, ax = plt.subplots()\n",
    "# ax.plot(x1, y1, '--',color='black', label='Graphic 1')\n",
    "# # ax.plot(x1, y2,'.',color='blue', label='Graphic 2')\n",
    "# ax.legend()\n",
    "# # fig.savefig('d:/Gidromet/temperatura_base/inter_nat_do1000.jpg', dpi=1000)\n",
    "\n",
    "# plt.show()"
   ]
  },
  {
   "cell_type": "code",
   "execution_count": 353,
   "id": "9ae64b6e",
   "metadata": {},
   "outputs": [
    {
     "data": {
      "text/plain": [
       "3033.6318593372125"
      ]
     },
     "execution_count": 353,
     "metadata": {},
     "output_type": "execute_result"
    }
   ],
   "source": [
    "df5=df4.groupby([pd.Grouper(key='date',freq='Y')]).mean()\n",
    "df5\n",
    "# df5=df5[:22]\n",
    "df6=df5['max'].sum()\n",
    "b=df6/22\n",
    "b\n"
   ]
  },
  {
   "cell_type": "code",
   "execution_count": 569,
   "id": "f4dcf661",
   "metadata": {},
   "outputs": [],
   "source": [
    "# df4['tgk']=(df4['max']-b)/b\n",
    "\n"
   ]
  },
  {
   "cell_type": "code",
   "execution_count": 470,
   "id": "f61ba564",
   "metadata": {},
   "outputs": [],
   "source": [
    "df5=df4[df4['max']>=2000]\n"
   ]
  },
  {
   "cell_type": "code",
   "execution_count": 469,
   "id": "d237bd88",
   "metadata": {},
   "outputs": [],
   "source": [
    "df6=df4[df4['max']<=2000]\n"
   ]
  },
  {
   "cell_type": "code",
   "execution_count": 486,
   "id": "4117b1e9",
   "metadata": {},
   "outputs": [
    {
     "data": {
      "image/png": "[encoded data removed]",
      "text/plain": [
       "<Figure size 640x480 with 1 Axes>"
      ]
     },
     "metadata": {},
     "output_type": "display_data"
    }
   ],
   "source": [
    "import matplotlib.pyplot as plt\n",
    "import numpy as np\n",
    "\n",
    "x = df4['date']\n",
    "y=df4['max']\n",
    "# x1 = df6['date']\n",
    "# y1 = df6['max']\n",
    "\n",
    "fig, ax = plt.subplots()\n",
    "ax.plot(x, y, '--',color='black', label='Graphic 1')\n",
    "# ax.plot(x1, y1,'--',color='black', label='Graphic 2')\n",
    "ax.legend()\n",
    "# fig.savefig('d:/Gidromet/temperatura_base/inter_nat_do1000.jpg', dpi=1000)\n",
    "\n",
    "plt.show()"
   ]
  },
  {
   "cell_type": "code",
   "execution_count": 362,
   "id": "9f68189c",
   "metadata": {},
   "outputs": [],
   "source": [
    "# import os\n",
    "\n",
    "# directory_path = 'D:/Gidromet/data.txt'\n",
    "# # save_path = \"D:/Gidromet/tgk/\"\n",
    "# # replace with the actual directory path\n",
    "\n",
    "# # loop over all the files in the directory\n",
    "# for filename in os.listdir(directory_path):\n",
    "#     if filename.endswith(\"data.txt\"):\n",
    "# #         id=filename[:7]\n",
    "# #         print(id)# check if the file is a .txt file\n",
    "#         file_path = os.path.join(directory_path, filename) # get the full path of the file\n",
    "#         df = pd.read_csv(file_path,header=None,sep='\\t',index_col=0)\n",
    "#         df=df[2:]\n",
    "# #         df.columns=['id','year','month','day','hour','T_air','T_soil', 'T_dew_point', 'Partial_pressure', 'Relative_humidity', \n",
    "# #                         'saturation_deficit','Atmosphere_pressure_station','Atmosphere_pressure_sea_level','Trend_view',\n",
    "# #                         'Trend_volume','Visibility','Cloudiness_all',  'Cloudiness_low','Ci','Ac','Cu','St','Fr','Height',\n",
    "# #                         'Below','Weather_W','Weather_ww','Wind_right','Wind_speed','Precipitation','None','None1','None2','TGK','None3']# read the file as a DataFrame using tab as delimiter\n",
    "# #         df=df[df['year']>=2020]\n",
    "# #         df1=df[['id','year','month','day','hour','T_air','T_soil', 'T_dew_point']]\n",
    "#         print(df1.head()) # print the first 5 rows of the DataFrame\n",
    "# #         df1.to_csv(save_path +str(id)+\".txt\", header=False)"
   ]
  },
  {
   "cell_type": "code",
   "execution_count": 363,
   "id": "73337a7a",
   "metadata": {},
   "outputs": [
    {
     "name": "stderr",
     "output_type": "stream",
     "text": [
      "C:\\Users\\User\\AppData\\Local\\Temp\\ipykernel_17032\\3260944248.py:1: DtypeWarning: Columns (6,7,8,9,10,11,12,13,14,15,16,17,18,19,20,21,22,23,24,25,26,27,28,29,30,33,34) have mixed types. Specify dtype option on import or set low_memory=False.\n",
      "  df=pd.read_csv('D:/Gidromet/Tayyorlari/TGK_sum.txt',index_col=0)\n"
     ]
    }
   ],
   "source": [
    "df=pd.read_csv('D:/Gidromet/Tayyorlari/TGK_sum.txt',index_col=0)\n",
    "df.columns=['id','year','month','day','hour','T_air','T_soil', 'T_dew_point', 'Partial_pressure', 'Relative_humidity', \n",
    "                        'saturation_deficit','Atmosphere_pressure_station','Atmosphere_pressure_sea_level','Trend_view',\n",
    "                        'Trend_volume','Visibility','Cloudiness_all',  'Cloudiness_low','Ci','Ac','Cu','St','Fr','Height',\n",
    "                        'Below','Weather_W','Weather_ww','Wind_right','Wind_speed','Precipitation','None','None1','None2','TGK']\n"
   ]
  },
  {
   "cell_type": "code",
   "execution_count": 364,
   "id": "fa72efb0",
   "metadata": {},
   "outputs": [],
   "source": [
    "df['T_air'] = pd.to_numeric(df['T_air'], errors='coerce')\n",
    "df['T_dew_point'] = pd.to_numeric(df['T_dew_point'], errors='coerce')\n"
   ]
  },
  {
   "cell_type": "code",
   "execution_count": 365,
   "id": "52e3debb",
   "metadata": {
    "scrolled": true
   },
   "outputs": [],
   "source": [
    "df['TGK']=((df['T_air']-df['T_dew_point'])/(df['T_air']+273))*1000\n"
   ]
  },
  {
   "cell_type": "code",
   "execution_count": 367,
   "id": "fedae9c7",
   "metadata": {},
   "outputs": [
    {
     "name": "stderr",
     "output_type": "stream",
     "text": [
      "C:\\Users\\User\\AppData\\Local\\Temp\\ipykernel_17032\\1515901671.py:2: SettingWithCopyWarning: \n",
      "A value is trying to be set on a copy of a slice from a DataFrame.\n",
      "Try using .loc[row_indexer,col_indexer] = value instead\n",
      "\n",
      "See the caveats in the documentation: https://pandas.pydata.org/pandas-docs/stable/user_guide/indexing.html#returning-a-view-versus-a-copy\n",
      "  df_osat['Precipitation'] = pd.to_numeric(df_osat['Precipitation'], errors='coerce')\n"
     ]
    },
    {
     "data": {
      "text/html": [
       "<div>\n",
       "<style scoped>\n",
       "    .dataframe tbody tr th:only-of-type {\n",
       "        vertical-align: middle;\n",
       "    }\n",
       "\n",
       "    .dataframe tbody tr th {\n",
       "        vertical-align: top;\n",
       "    }\n",
       "\n",
       "    .dataframe thead th {\n",
       "        text-align: right;\n",
       "    }\n",
       "</style>\n",
       "<table border=\"1\" class=\"dataframe\">\n",
       "  <thead>\n",
       "    <tr style=\"text-align: right;\">\n",
       "      <th></th>\n",
       "      <th>id</th>\n",
       "      <th>date</th>\n",
       "      <th>Precipitation</th>\n",
       "    </tr>\n",
       "    <tr>\n",
       "      <th>0</th>\n",
       "      <th></th>\n",
       "      <th></th>\n",
       "      <th></th>\n",
       "    </tr>\n",
       "  </thead>\n",
       "  <tbody>\n",
       "    <tr>\n",
       "      <th>1</th>\n",
       "      <td>3736730</td>\n",
       "      <td>2009-01-01 23:00:00</td>\n",
       "      <td>NaN</td>\n",
       "    </tr>\n",
       "    <tr>\n",
       "      <th>2</th>\n",
       "      <td>3736730</td>\n",
       "      <td>2009-01-02 23:00:00</td>\n",
       "      <td>NaN</td>\n",
       "    </tr>\n",
       "    <tr>\n",
       "      <th>3</th>\n",
       "      <td>3736730</td>\n",
       "      <td>2009-01-03 23:00:00</td>\n",
       "      <td>NaN</td>\n",
       "    </tr>\n",
       "    <tr>\n",
       "      <th>4</th>\n",
       "      <td>3736730</td>\n",
       "      <td>2009-01-04 23:00:00</td>\n",
       "      <td>NaN</td>\n",
       "    </tr>\n",
       "    <tr>\n",
       "      <th>5</th>\n",
       "      <td>3736730</td>\n",
       "      <td>2009-01-05 23:00:00</td>\n",
       "      <td>NaN</td>\n",
       "    </tr>\n",
       "    <tr>\n",
       "      <th>...</th>\n",
       "      <td>...</td>\n",
       "      <td>...</td>\n",
       "      <td>...</td>\n",
       "    </tr>\n",
       "    <tr>\n",
       "      <th>40900</th>\n",
       "      <td>4515830</td>\n",
       "      <td>2022-12-27 20:00:00</td>\n",
       "      <td>NaN</td>\n",
       "    </tr>\n",
       "    <tr>\n",
       "      <th>40901</th>\n",
       "      <td>4515830</td>\n",
       "      <td>2022-12-28 20:00:00</td>\n",
       "      <td>NaN</td>\n",
       "    </tr>\n",
       "    <tr>\n",
       "      <th>40902</th>\n",
       "      <td>4515830</td>\n",
       "      <td>2022-12-29 20:00:00</td>\n",
       "      <td>NaN</td>\n",
       "    </tr>\n",
       "    <tr>\n",
       "      <th>40903</th>\n",
       "      <td>4515830</td>\n",
       "      <td>2022-12-30 20:00:00</td>\n",
       "      <td>NaN</td>\n",
       "    </tr>\n",
       "    <tr>\n",
       "      <th>40904</th>\n",
       "      <td>4515830</td>\n",
       "      <td>2022-12-31 20:00:00</td>\n",
       "      <td>NaN</td>\n",
       "    </tr>\n",
       "  </tbody>\n",
       "</table>\n",
       "<p>3146012 rows × 3 columns</p>\n",
       "</div>"
      ],
      "text/plain": [
       "            id                date  Precipitation\n",
       "0                                                \n",
       "1      3736730 2009-01-01 23:00:00            NaN\n",
       "2      3736730 2009-01-02 23:00:00            NaN\n",
       "3      3736730 2009-01-03 23:00:00            NaN\n",
       "4      3736730 2009-01-04 23:00:00            NaN\n",
       "5      3736730 2009-01-05 23:00:00            NaN\n",
       "...        ...                 ...            ...\n",
       "40900  4515830 2022-12-27 20:00:00            NaN\n",
       "40901  4515830 2022-12-28 20:00:00            NaN\n",
       "40902  4515830 2022-12-29 20:00:00            NaN\n",
       "40903  4515830 2022-12-30 20:00:00            NaN\n",
       "40904  4515830 2022-12-31 20:00:00            NaN\n",
       "\n",
       "[3146012 rows x 3 columns]"
      ]
     },
     "execution_count": 367,
     "metadata": {},
     "output_type": "execute_result"
    }
   ],
   "source": [
    "df_osat=df1[['id','date','Precipitation']]\n",
    "df_osat['Precipitation'] = pd.to_numeric(df_osat['Precipitation'], errors='coerce')\n",
    "df_osat"
   ]
  },
  {
   "cell_type": "code",
   "execution_count": 390,
   "id": "a5c73d71",
   "metadata": {},
   "outputs": [],
   "source": [
    "# df_os=df_osat[df_osat['id']==4076450]\n"
   ]
  },
  {
   "cell_type": "code",
   "execution_count": 391,
   "id": "4c09b55f",
   "metadata": {},
   "outputs": [],
   "source": [
    "# df_osat['id'].unique()"
   ]
  },
  {
   "cell_type": "code",
   "execution_count": 394,
   "id": "607f3a0a",
   "metadata": {},
   "outputs": [],
   "source": [
    "# df2=df1.groupby(['id','date'])['Precipitation'].sum()\n",
    "# df2"
   ]
  },
  {
   "cell_type": "code",
   "execution_count": 395,
   "id": "26ae088c",
   "metadata": {},
   "outputs": [],
   "source": [
    "# for i in df_osat['id'].unique():\n",
    "# #     print('for sikl boshlandi')    \n",
    "#     if  (df_osat['id'].unique()==i).any():\n",
    "# #         df1.groupby(['id','date'])['Precipitation'].sum()\n",
    "#         df_osat=df1[['id','date','Precipitation']]\n",
    "#         df_osat['Precipitation'] = pd.to_numeric(df_osat['Precipitation'], errors='coerce')\n",
    "#         df_os=df_osat[df_osat['id']==i]\n",
    "#         df2=df_os.groupby(pd.Grouper(key='date',freq='M')).sum()\n",
    "#         df2['id1']=i\n",
    "#         df2=df2\n",
    "#         print(df2)"
   ]
  },
  {
   "cell_type": "code",
   "execution_count": 396,
   "id": "90059fb6",
   "metadata": {},
   "outputs": [],
   "source": [
    "# df2=df_os.groupby('id',pd.Grouper(key='date',freq='M')).sum()\n",
    "# df2.to_csv('D:/Gidromet/tgk/data_tayyor.txt', header=False)"
   ]
  },
  {
   "cell_type": "code",
   "execution_count": 26,
   "id": "4dace976",
   "metadata": {},
   "outputs": [],
   "source": [
    "import os\n",
    "input_dir = 'D:/Gidromet/Tayyorlari/Meteostations_2009_2022/'\n",
    "output_file = 'D:/Gidromet/Tayyorlari/TGK_sum.txt'\n",
    "filenames = os.listdir(input_dir)\n",
    "with open(output_file, 'a') as outfile:\n",
    "    n = 0\n",
    "    for filename in filenames:\n",
    "        base_filename, extension = os.path.splitext(filename)\n",
    "        with open(os.path.join(input_dir, filename), 'r') as infile:\n",
    "            outfile.write(infile.read())\n",
    "        n += 1"
   ]
  },
  {
   "cell_type": "code",
   "execution_count": 560,
   "id": "9bb68c47",
   "metadata": {},
   "outputs": [],
   "source": [
    "# df = pd.DataFrame({'inglizcha':['accuse','adjust','amuse','coral','cotton','crash','deck','engage','firm','fuel','grand','hurricane','loss','plain','reef','shut','strict','surf','task','zone'],\n",
    "#     \"o'zbekcha\":['ayblamoq',\"o'zgartirmoq\",'kuldirmoq','marjon','paxta','avariya sodir bolmoq','paluba','band bolmoq','mustahkam qilmoq','yonilgi','hashamatli','kuchli dovul','yoqotish','oddiy','chogirtosh','yopib qoymoq','qattiqqol','surf','vazifa','hudud']\n",
    "#                   })\n",
    "\n",
    "        "
   ]
  },
  {
   "cell_type": "code",
   "execution_count": 559,
   "id": "4aa95e3a",
   "metadata": {},
   "outputs": [],
   "source": [
    "# import random\n",
    "# random_row = df['inglizcha'].sample(n=1, random_state=random.randint(0, 100))\n",
    "# print(random_row)\n",
    "# a=input(\"So'zni kiriting = \")\n",
    "# dictionary=df[df[\"o'zbekcha\"]==a]\n",
    "# print(dictionary)\n",
    "\n",
    "# # if dictionary=df[df[\"o'zbekcha\"]==a]:\n",
    "# #     print(\"natija to'gri\")\n",
    "# # else:\n",
    "# #     print(\"natija xato\")\n"
   ]
  },
  {
   "cell_type": "code",
   "execution_count": null,
   "id": "d5bd2bde",
   "metadata": {},
   "outputs": [],
   "source": [
    "# yil=int(input(\" yilni kiriting = \"))\n",
    "# def year(a): \n",
    "#     if a % 4 == 0 and (a % 100 != 0 or a % 400 == 0):\n",
    "#         return True\n",
    "#     else :\n",
    "#         return False\n",
    "# if year(yil):\n",
    "#     print(f\"{yil} = kabisa yili\")\n",
    "# else :\n",
    "#     print(f\"{yil} = oddiy yil\")\n",
    "    "
   ]
  },
  {
   "cell_type": "code",
   "execution_count": null,
   "id": "b6c1dd90",
   "metadata": {},
   "outputs": [],
   "source": [
    "# y=np.arange(1,34)\n",
    "# for j in range(len(y)):\n",
    "#     if y[j]%2==0: \n",
    "#         print(f\"{y[j]}=juft son\")\n",
    "#     else:\n",
    "#         print(f\"{y[j]}=toq son\")\n",
    "    \n"
   ]
  }
 ],
 "metadata": {
  "kernelspec": {
   "display_name": "Python 3 (ipykernel)",
   "language": "python",
   "name": "python3"
  },
  "language_info": {
   "codemirror_mode": {
    "name": "ipython",
    "version": 3
   },
   "file_extension": ".py",
   "mimetype": "text/x-python",
   "name": "python",
   "nbconvert_exporter": "python",
   "pygments_lexer": "ipython3",
   "version": "3.9.13"
  }
 },
 "nbformat": 4,
 "nbformat_minor": 5
}
